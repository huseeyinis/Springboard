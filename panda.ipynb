{
 "cells": [
  {
   "cell_type": "code",
   "execution_count": 4,
   "id": "a9c78467",
   "metadata": {},
   "outputs": [
    {
     "name": "stderr",
     "output_type": "stream",
     "text": [
      "/var/folders/wk/_yq0cchn47jdqrmpqmr233700000gn/T/ipykernel_26046/1288310711.py:6: VisibleDeprecationWarning: Creating an ndarray from ragged nested sequences (which is a list-or-tuple of lists-or-tuples-or ndarrays with different lengths or shapes) is deprecated. If you meant to do this, you must specify 'dtype=object' when creating the ndarray.\n",
      "  'pets': np.array([['cat', 'dog'],\n"
     ]
    },
    {
     "data": {
      "text/plain": [
       "3    56\n",
       "Name: age, dtype: int64"
      ]
     },
     "execution_count": 4,
     "metadata": {},
     "output_type": "execute_result"
    }
   ],
   "source": [
    "import numpy as np\n",
    "import pandas as pd\n",
    "\n",
    "pets = pd.DataFrame({'sex': np.array(['M', 'M', 'F', 'M', 'F', 'F', 'F', 'M', 'F', 'M']),\n",
    "                   'age': np.array([21, 45, 23, 56, 47, 70, 34, 30, 19, 62]),\n",
    "                   'pets': np.array([['cat', 'dog'],\n",
    "                                    ['hamster'],\n",
    "                                    ['cat', 'gerbil'],\n",
    "                                    ['fish', 'hamster', 'gerbil'],\n",
    "                                    ['cat'],\n",
    "                                    ['dog'],\n",
    "                                    ['dog'],\n",
    "                                    ['cat'],\n",
    "                                    ['rabbit', 'cat'],\n",
    "                                    ['dog']])})\n",
    "pets['num_pets'] = pets['pets'].apply(lambda x: len(x))\n",
    "pets.loc[pets['num_pets'] == max(pets['num_pets']), 'age']\n"
   ]
  },
  {
   "cell_type": "code",
   "execution_count": null,
   "id": "d617eb2f",
   "metadata": {},
   "outputs": [],
   "source": []
  },
  {
   "cell_type": "code",
   "execution_count": null,
   "id": "75650333",
   "metadata": {},
   "outputs": [],
   "source": []
  }
 ],
 "metadata": {
  "kernelspec": {
   "display_name": "Python 3 (ipykernel)",
   "language": "python",
   "name": "python3"
  },
  "language_info": {
   "codemirror_mode": {
    "name": "ipython",
    "version": 3
   },
   "file_extension": ".py",
   "mimetype": "text/x-python",
   "name": "python",
   "nbconvert_exporter": "python",
   "pygments_lexer": "ipython3",
   "version": "3.10.9"
  }
 },
 "nbformat": 4,
 "nbformat_minor": 5
}
