{
 "cells": [
  {
   "cell_type": "markdown",
   "id": "f4a013c2",
   "metadata": {},
   "source": [
    "introduction\n",
    "\"this is my first Jupyter notebook\""
   ]
  },
  {
   "cell_type": "code",
   "execution_count": 9,
   "id": "ec88f2b8",
   "metadata": {},
   "outputs": [
    {
     "data": {
      "text/plain": [
       "11"
      ]
     },
     "execution_count": 9,
     "metadata": {},
     "output_type": "execute_result"
    }
   ],
   "source": [
    "x = 5\n",
    "y = 6\n",
    "x + y\n"
   ]
  },
  {
   "cell_type": "markdown",
   "id": "19e294a9",
   "metadata": {},
   "source": [
    "z = 11"
   ]
  }
 ],
 "metadata": {
  "kernelspec": {
   "display_name": "Python 3 (ipykernel)",
   "language": "python",
   "name": "python3"
  },
  "language_info": {
   "codemirror_mode": {
    "name": "ipython",
    "version": 3
   },
   "file_extension": ".py",
   "mimetype": "text/x-python",
   "name": "python",
   "nbconvert_exporter": "python",
   "pygments_lexer": "ipython3",
   "version": "3.10.9"
  }
 },
 "nbformat": 4,
 "nbformat_minor": 5
}
